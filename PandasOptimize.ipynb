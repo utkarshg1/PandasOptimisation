{
 "cells": [
  {
   "cell_type": "markdown",
   "id": "1a33f122-5421-4416-af0b-aede3757d51e",
   "metadata": {},
   "source": [
    "# Optimizing pandas time complexity example - Utkarsh Gaikwad"
   ]
  },
  {
   "cell_type": "markdown",
   "id": "a248ca48-92b8-43e3-b08e-7c275b00afe1",
   "metadata": {},
   "source": [
    "## Create a dummy data function"
   ]
  },
  {
   "cell_type": "code",
   "execution_count": 26,
   "id": "266eb382-81c5-43b3-a4ca-e398fb796cfd",
   "metadata": {},
   "outputs": [],
   "source": [
    "import pandas as pd\n",
    "import numpy as np\n",
    "def get_data(size=10_000):\n",
    "    df = pd.DataFrame()\n",
    "    df['age']=np.random.randint(5,100,size)\n",
    "    df['time_in_bed']=np.random.randint(0,9,size)\n",
    "    df['pct_sleep']=np.random.rand(size)\n",
    "    df['favourite_food']=np.random.choice(['Pizza','Taco','Burger','Sandwich','Ice-Cream'],size)\n",
    "    df['hated_food']=np.random.choice(['Eggs','Brocolli','Candy Corn','Mushroom','Spinach'],size)\n",
    "    return df"
   ]
  },
  {
   "cell_type": "code",
   "execution_count": 27,
   "id": "d46c8f46-2921-4d99-9557-ff44980e5520",
   "metadata": {},
   "outputs": [
    {
     "data": {
      "text/html": [
       "<div>\n",
       "<style scoped>\n",
       "    .dataframe tbody tr th:only-of-type {\n",
       "        vertical-align: middle;\n",
       "    }\n",
       "\n",
       "    .dataframe tbody tr th {\n",
       "        vertical-align: top;\n",
       "    }\n",
       "\n",
       "    .dataframe thead th {\n",
       "        text-align: right;\n",
       "    }\n",
       "</style>\n",
       "<table border=\"1\" class=\"dataframe\">\n",
       "  <thead>\n",
       "    <tr style=\"text-align: right;\">\n",
       "      <th></th>\n",
       "      <th>age</th>\n",
       "      <th>time_in_bed</th>\n",
       "      <th>pct_sleep</th>\n",
       "      <th>favourite_food</th>\n",
       "      <th>hated_food</th>\n",
       "    </tr>\n",
       "  </thead>\n",
       "  <tbody>\n",
       "    <tr>\n",
       "      <th>0</th>\n",
       "      <td>98</td>\n",
       "      <td>7</td>\n",
       "      <td>0.755596</td>\n",
       "      <td>Ice-Cream</td>\n",
       "      <td>Mushroom</td>\n",
       "    </tr>\n",
       "    <tr>\n",
       "      <th>1</th>\n",
       "      <td>12</td>\n",
       "      <td>2</td>\n",
       "      <td>0.323399</td>\n",
       "      <td>Burger</td>\n",
       "      <td>Eggs</td>\n",
       "    </tr>\n",
       "    <tr>\n",
       "      <th>2</th>\n",
       "      <td>87</td>\n",
       "      <td>6</td>\n",
       "      <td>0.433156</td>\n",
       "      <td>Taco</td>\n",
       "      <td>Eggs</td>\n",
       "    </tr>\n",
       "    <tr>\n",
       "      <th>3</th>\n",
       "      <td>20</td>\n",
       "      <td>3</td>\n",
       "      <td>0.782935</td>\n",
       "      <td>Taco</td>\n",
       "      <td>Spinach</td>\n",
       "    </tr>\n",
       "    <tr>\n",
       "      <th>4</th>\n",
       "      <td>75</td>\n",
       "      <td>0</td>\n",
       "      <td>0.160866</td>\n",
       "      <td>Taco</td>\n",
       "      <td>Candy Corn</td>\n",
       "    </tr>\n",
       "  </tbody>\n",
       "</table>\n",
       "</div>"
      ],
      "text/plain": [
       "   age  time_in_bed  pct_sleep favourite_food  hated_food\n",
       "0   98            7   0.755596      Ice-Cream    Mushroom\n",
       "1   12            2   0.323399         Burger        Eggs\n",
       "2   87            6   0.433156           Taco        Eggs\n",
       "3   20            3   0.782935           Taco     Spinach\n",
       "4   75            0   0.160866           Taco  Candy Corn"
      ]
     },
     "execution_count": 27,
     "metadata": {},
     "output_type": "execute_result"
    }
   ],
   "source": [
    "df = get_data()\n",
    "df.head()"
   ]
  },
  {
   "cell_type": "code",
   "execution_count": 28,
   "id": "14722f73-8524-4373-a9bf-06ca03531350",
   "metadata": {},
   "outputs": [
    {
     "name": "stdout",
     "output_type": "stream",
     "text": [
      "5.05 ms ± 98.7 µs per loop (mean ± std. dev. of 7 runs, 100 loops each)\n"
     ]
    }
   ],
   "source": [
    "%%timeit\n",
    "get_data()"
   ]
  },
  {
   "cell_type": "markdown",
   "id": "58281632-6220-4792-b9f1-fb54df342461",
   "metadata": {},
   "source": [
    "## Problem Statement :\n",
    "* if sleep is more than or equal to 6 hours AND percentage time sleep is greater than or equal to 50% then reward with favourite food.\n",
    "* Otherwise give them Hated food\n",
    "* if age>80 give favourite food regardless of above contition."
   ]
  },
  {
   "cell_type": "markdown",
   "id": "c301cf4f-bd36-4268-809a-17dfe5dfd263",
   "metadata": {},
   "source": [
    "## Custom Function"
   ]
  },
  {
   "cell_type": "code",
   "execution_count": 3,
   "id": "405c2b30-543c-4d78-8278-8df33757b04b",
   "metadata": {},
   "outputs": [],
   "source": [
    "def reward_calc(row):\n",
    "    \n",
    "    if row['age']>=80:\n",
    "        return row['favourite_food']\n",
    "    elif (row['time_in_bed']>=6) and (row['pct_sleep']>=0.5):\n",
    "        return row['favourite_food']\n",
    "    \n",
    "    return row['hated_food']"
   ]
  },
  {
   "cell_type": "markdown",
   "id": "41c6ffad-d37b-40ef-81a5-14d727e543ac",
   "metadata": {},
   "source": [
    "## Method 1: Looping with custom function"
   ]
  },
  {
   "cell_type": "code",
   "execution_count": 30,
   "id": "15acc2a0-0d0f-404b-b315-b01070276599",
   "metadata": {},
   "outputs": [
    {
     "name": "stdout",
     "output_type": "stream",
     "text": [
      "1.79 s ± 8.63 ms per loop (mean ± std. dev. of 7 runs, 10 loops each)\n"
     ]
    }
   ],
   "source": [
    "%%timeit -r 7 -n 10\n",
    "df = get_data()\n",
    "for index, row in df.iterrows():\n",
    "    df.loc[index,'reward'] = reward_calc(row)"
   ]
  },
  {
   "cell_type": "markdown",
   "id": "81bc4240-ab42-4f36-a4d7-71308b6e030a",
   "metadata": {},
   "source": [
    "## Method 2: Apply with custom function"
   ]
  },
  {
   "cell_type": "code",
   "execution_count": 31,
   "id": "38a5d7b0-1cc1-4823-a0dd-040c476ff525",
   "metadata": {},
   "outputs": [
    {
     "name": "stdout",
     "output_type": "stream",
     "text": [
      "148 ms ± 2.97 ms per loop (mean ± std. dev. of 7 runs, 10 loops each)\n"
     ]
    }
   ],
   "source": [
    "%%timeit\n",
    "df = get_data()\n",
    "df['reward']= df.apply(reward_calc,axis=1)"
   ]
  },
  {
   "cell_type": "markdown",
   "id": "f8dc8b18-f814-47c1-8a64-fa0da306120d",
   "metadata": {},
   "source": [
    "## Method 3: Vectorize the results"
   ]
  },
  {
   "cell_type": "code",
   "execution_count": 33,
   "id": "10cad93e-0bf0-48b0-a436-bb45dd65f411",
   "metadata": {},
   "outputs": [
    {
     "name": "stdout",
     "output_type": "stream",
     "text": [
      "7.65 ms ± 228 µs per loop (mean ± std. dev. of 7 runs, 100 loops each)\n"
     ]
    }
   ],
   "source": [
    "%%timeit\n",
    "df = get_data()\n",
    "df['rewards'] = df['hated_food']\n",
    "df.loc[((df['time_in_bed']>=6) & \n",
    "        (df['pct_sleep']>=0.5))|\n",
    "        (df['age']>=80),'rewards'] = df['favourite_food']"
   ]
  },
  {
   "cell_type": "markdown",
   "id": "a1387787-1597-4591-92d2-a496cc68bd4e",
   "metadata": {},
   "source": [
    "## Final Results Analysis"
   ]
  },
  {
   "cell_type": "code",
   "execution_count": 39,
   "id": "63d0dae7-96c4-44dc-a0d7-7ec3d571183a",
   "metadata": {},
   "outputs": [
    {
     "data": {
      "text/html": [
       "<div>\n",
       "<style scoped>\n",
       "    .dataframe tbody tr th:only-of-type {\n",
       "        vertical-align: middle;\n",
       "    }\n",
       "\n",
       "    .dataframe tbody tr th {\n",
       "        vertical-align: top;\n",
       "    }\n",
       "\n",
       "    .dataframe thead th {\n",
       "        text-align: right;\n",
       "    }\n",
       "</style>\n",
       "<table border=\"1\" class=\"dataframe\">\n",
       "  <thead>\n",
       "    <tr style=\"text-align: right;\">\n",
       "      <th></th>\n",
       "      <th>type</th>\n",
       "      <th>average_time</th>\n",
       "      <th>standard_deviation</th>\n",
       "    </tr>\n",
       "  </thead>\n",
       "  <tbody>\n",
       "    <tr>\n",
       "      <th>0</th>\n",
       "      <td>Looping</td>\n",
       "      <td>1790.00</td>\n",
       "      <td>8.630</td>\n",
       "    </tr>\n",
       "    <tr>\n",
       "      <th>1</th>\n",
       "      <td>Apply</td>\n",
       "      <td>148.00</td>\n",
       "      <td>2.970</td>\n",
       "    </tr>\n",
       "    <tr>\n",
       "      <th>2</th>\n",
       "      <td>vectorized</td>\n",
       "      <td>7.65</td>\n",
       "      <td>0.228</td>\n",
       "    </tr>\n",
       "  </tbody>\n",
       "</table>\n",
       "</div>"
      ],
      "text/plain": [
       "         type  average_time  standard_deviation\n",
       "0     Looping       1790.00               8.630\n",
       "1       Apply        148.00               2.970\n",
       "2  vectorized          7.65               0.228"
      ]
     },
     "execution_count": 39,
     "metadata": {},
     "output_type": "execute_result"
    }
   ],
   "source": [
    "dct = {'type':['Looping','Apply','vectorized'],\n",
    "       'average_time':[1790,148,7.65],\n",
    "       'standard_deviation':[8.63,2.97,0.228]}\n",
    "df_analysis = pd.DataFrame(dct)\n",
    "df_analysis"
   ]
  },
  {
   "cell_type": "code",
   "execution_count": 41,
   "id": "c601288d-10fc-41c9-b9dd-b463bca40c8b",
   "metadata": {},
   "outputs": [
    {
     "data": {
      "text/plain": [
       "<AxesSubplot: title={'center': 'Time to run reward calculation'}, xlabel='type'>"
      ]
     },
     "execution_count": 41,
     "metadata": {},
     "output_type": "execute_result"
    },
    {
     "data": {
      "image/png": "[encoded data removed]",
      "text/plain": [
       "<Figure size 640x480 with 1 Axes>"
      ]
     },
     "metadata": {},
     "output_type": "display_data"
    }
   ],
   "source": [
    "df_analysis.set_index('type')['average_time'].plot(kind='bar',title='Time to run reward calculation')"
   ]
  }
 ],
 "metadata": {
  "kernelspec": {
   "display_name": "Python 3 (ipykernel)",
   "language": "python",
   "name": "python3"
  },
  "language_info": {
   "codemirror_mode": {
    "name": "ipython",
    "version": 3
   },
   "file_extension": ".py",
   "mimetype": "text/x-python",
   "name": "python",
   "nbconvert_exporter": "python",
   "pygments_lexer": "ipython3",
   "version": "3.10.8"
  }
 },
 "nbformat": 4,
 "nbformat_minor": 5
}
